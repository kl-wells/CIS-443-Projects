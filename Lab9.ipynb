{
 "cells": [
  {
   "cell_type": "markdown",
   "metadata": {},
   "source": [
    "# CIS 443-75 - Analytics Programming\n",
    "## Lab 9\n",
    "__Grading ID__: P5696 (double click the cell in Jupyter to edit, find ID in Blackboard Gradebook)<br>\n",
    "__Due__: Sunday, April 11 (by 11:59 PM)<br />\n",
    "__Worth__: 25 pts."
   ]
  },
  {
   "cell_type": "markdown",
   "metadata": {},
   "source": [
    "### Directions\n",
    "In the code cell below, write Python code to accomplish the following. Using the techniques demonstrated in Section 10.16, download a data file from <a href=\"https://www.ncdc.noaa.gov/cag/\" target=\"_blank\" rel=\"noreferrer noopener\">NOAA's Climate at a Glance</a> of high (Maximum) temperatures in Louisville, Kentucky for the month of August for all years that the data are available (1948 - 2020). Create a linear regression model using __linregress__ from SciPy. Use the model to predict the high temperature in August 2025.\n",
    "\n",
    "Test your source code and save your work before submission. (25 pts.)"
   ]
  },
  {
   "cell_type": "code",
   "execution_count": 18,
   "metadata": {},
   "outputs": [
    {
     "name": "stdout",
     "output_type": "stream",
     "text": [
      "The predicted temperature for August of 2025 is 88.1868 degrees Fahrenheit\n"
     ]
    }
   ],
   "source": [
    "# Put Lab 9 Code Here\n",
    "import pandas as pd\n",
    "from scipy import stats\n",
    "\n",
    "louTemps = pd.read_csv('Lou_high_temps.csv')\n",
    "louTemps.columns = ['Date', 'Temperature', 'Anomaly']\n",
    "louTemps.Date = louTemps.Date.floordiv(100)\n",
    "\n",
    "pd.set_option('precision', 2)\n",
    "louTemps.Temperature.describe()\n",
    "\n",
    "lin_reg = stats.linregress(x=louTemps.Date, y=louTemps.Temperature)\n",
    "print(f'The predicted temperature for August of 2025 is {lin_reg.slope * 2025 + lin_reg.intercept:.4f} degrees Fahrenheit')"
   ]
  },
  {
   "cell_type": "markdown",
   "metadata": {},
   "source": [
    "Be sure to save and exit your Jupyter Notebook and Shutdown Jupyter Lab (from the __File__ menu) before you submit your notebook on Blackboard for grading. Make sure you don't submit the empty starting notebook by accident."
   ]
  }
 ],
 "metadata": {
  "kernelspec": {
   "display_name": "Python 3",
   "language": "python",
   "name": "python3"
  },
  "language_info": {
   "codemirror_mode": {
    "name": "ipython",
    "version": 3
   },
   "file_extension": ".py",
   "mimetype": "text/x-python",
   "name": "python",
   "nbconvert_exporter": "python",
   "pygments_lexer": "ipython3",
   "version": "3.8.5"
  }
 },
 "nbformat": 4,
 "nbformat_minor": 4
}
