{
 "cells": [
  {
   "cell_type": "markdown",
   "metadata": {},
   "source": [
    "# CIS 443-75 - Analytics Programming\n",
    "## Lab 5\n",
    "__Grading ID__: P5696 (double click the cell in Jupyter to edit, find ID in Blackboard Gradebook)<br>\n",
    "__Due__: Sunday, February 28 (by 11:59 PM)<br />\n",
    "__Worth__: 25 pts."
   ]
  },
  {
   "cell_type": "markdown",
   "metadata": {},
   "source": [
    "### Directions\n",
    "Exercise 5.11, p. 202 (Summarizing Letters in a String) Write a function `summarize_letters` that receives a string and returns a list of tuples containing the unique letters and their frequencies in the string. Test your function and display each letter with its frequency. Your function should ignore case sensitivity (that is, 'a' and 'A' are the same) and ignore spaces and punctuation. When done, write a statement that says whether the string has all the letters of the alphabet."
   ]
  },
  {
   "cell_type": "code",
   "execution_count": 18,
   "metadata": {},
   "outputs": [
    {
     "name": "stdin",
     "output_type": "stream",
     "text": [
      "Enter a string:  Good afternoon, I hope you are having a wonderful day!\n"
     ]
    },
    {
     "name": "stdout",
     "output_type": "stream",
     "text": [
      "a appears in that string 5 times.\n",
      "d appears in that string 3 times.\n",
      "e appears in that string 4 times.\n",
      "f appears in that string 2 times.\n",
      "g appears in that string 1 times.\n",
      "h appears in that string 2 times.\n",
      "i appears in that string 1 times.\n",
      "l appears in that string 1 times.\n",
      "n appears in that string 4 times.\n",
      "o appears in that string 7 times.\n",
      "p appears in that string 1 times.\n",
      "r appears in that string 3 times.\n",
      "t appears in that string 1 times.\n",
      "u appears in that string 2 times.\n",
      "v appears in that string 1 times.\n",
      "w appears in that string 1 times.\n",
      "y appears in that string 2 times.\n",
      "This string does NOT contain all letters of the alphabet\n"
     ]
    }
   ],
   "source": [
    "#This creates the summarize letters function\n",
    "def summarize_letters(string):\n",
    "    letters_list = ['a', 'b', 'c', 'd', 'e', 'f', 'g', 'h', 'i', 'j', 'k', 'l', 'm', 'n', 'o', 'p', 'q', 'r', 's', 't', 'u', 'v', 'w', 'x', 'y', 'z']\n",
    "    n = 0\n",
    "    string.lower()\n",
    "    letter_tuple = ()\n",
    "    #This for loop goes through each of the letters in the list and determines if they're in the string\n",
    "    for i in range(len(letters_list)):\n",
    "        letter = letters_list[i]\n",
    "        if letter in string:\n",
    "            letter_tuple = letter\n",
    "            letter_tuple = string.count(letter)\n",
    "            print(f\"{letter} appears in that string {string.count(letter)} times.\")\n",
    "            n += 1\n",
    "    #This if/else statement determines if the string contains all letters of the alphabet\n",
    "    if n == 26:\n",
    "        print(\"This string contains all letters of the alphabet\")\n",
    "    else:\n",
    "        print(\"This string does NOT contain all letters of the alphabet\")\n",
    "\n",
    "#gathers a string from the user and initiates the summarize letters function\n",
    "string = input(\"Enter a string: \")\n",
    "summarize_letters(string)\n"
   ]
  },
  {
   "cell_type": "markdown",
   "metadata": {},
   "source": [
    "Be sure to save and exit your Jupyter Notebook and Shutdown Jupyter Lab (from the __File__ menu) before you submit your notebook on Blackboard for grading. Make sure you don't submit the empty starting notebook by accident."
   ]
  }
 ],
 "metadata": {
  "kernelspec": {
   "display_name": "Python 3",
   "language": "python",
   "name": "python3"
  },
  "language_info": {
   "codemirror_mode": {
    "name": "ipython",
    "version": 3
   },
   "file_extension": ".py",
   "mimetype": "text/x-python",
   "name": "python",
   "nbconvert_exporter": "python",
   "pygments_lexer": "ipython3",
   "version": "3.7.4"
  }
 },
 "nbformat": 4,
 "nbformat_minor": 4
}
